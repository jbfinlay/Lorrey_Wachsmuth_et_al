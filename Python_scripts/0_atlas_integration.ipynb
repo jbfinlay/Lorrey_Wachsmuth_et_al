{
 "cells": [
  {
   "cell_type": "markdown",
   "id": "836f3c3d-54de-4fec-8ca9-1897dde4ff1a",
   "metadata": {},
   "source": [
    "# Prepare environment"
   ]
  },
  {
   "cell_type": "code",
   "execution_count": null,
   "id": "84652aca-eb3a-4588-83c5-800182ea518a",
   "metadata": {},
   "outputs": [],
   "source": [
    "#Import relevant packages\n",
    "import numpy as np\n",
    "import pandas as pd\n",
    "from matplotlib import rcParams\n",
    "import os\n",
    "import scanpy as sc\n",
    "\n",
    "import matplotlib as mpl\n",
    "import matplotlib.pyplot as plt\n",
    "\n",
    "#For nice color schemes\n",
    "import cmocean\n",
    "\n",
    "#For barplots\n",
    "import seaborn as sns"
   ]
  },
  {
   "cell_type": "code",
   "execution_count": null,
   "id": "8cd7ba35-ba7f-46b4-9f18-7bb24a98f4b8",
   "metadata": {},
   "outputs": [],
   "source": [
    "#Import scVI\n",
    "import scvi\n",
    "from scvi.model.utils import mde\n",
    "\n",
    "scvi.settings.verbosity = 40"
   ]
  },
  {
   "cell_type": "code",
   "execution_count": null,
   "id": "183aba75-0200-43b2-be59-c8129802f324",
   "metadata": {},
   "outputs": [],
   "source": [
    "#Set fontsize\n",
    "plt.rcParams.update({'font.size': 20})"
   ]
  },
  {
   "cell_type": "markdown",
   "id": "b6118821-fbf0-46ab-8946-a1b71600926b",
   "metadata": {},
   "source": [
    "# Read in datasets"
   ]
  },
  {
   "cell_type": "markdown",
   "id": "6b635389-3370-4d7a-9c16-3782391e0f99",
   "metadata": {},
   "source": [
    "For example, to read in filtered feature matrices from GEO:"
   ]
  },
  {
   "cell_type": "code",
   "execution_count": null,
   "id": "b92a7ec2-0d6b-45bb-ba5b-fc0736348b37",
   "metadata": {},
   "outputs": [],
   "source": [
    "#Set wd\n",
    "os.chdir('/hpc/group/goldsteinlab/Python/GEO_accession/Lee_et_al_Nat_Comm_GBM_TILs')"
   ]
  },
  {
   "cell_type": "code",
   "execution_count": null,
   "id": "647219e0-da4f-47e9-a9ab-8d492ff1a1b0",
   "metadata": {},
   "outputs": [],
   "source": [
    "#Read in 10x Cell Ranger output counts matrix \n",
    "LB3612T = sc.read_10x_mtx('ndGBM_outs/LB3612T/', var_names='gene_symbols', cache=True)\n",
    "\n",
    "#Add metadata\n",
    "LB3612T.obs['batch1'] = 'LB3612T'\n",
    "LB3612T.obs['orig_patient']='LB3612'\n",
    "LB3612T.obs['tumor'] = 'ndGBM'\n",
    "LB3612T.obs['study'] = 'Lee_et_al_2021'"
   ]
  },
  {
   "cell_type": "code",
   "execution_count": null,
   "id": "36cf21b1-5dbf-4f0d-ad6d-536655686956",
   "metadata": {},
   "outputs": [],
   "source": [
    "#Read in 10x Cell Ranger output counts matrix \n",
    "LB3771T = sc.read_10x_mtx('ndGBM_outs/LB3771T/', var_names='gene_symbols', cache=True)\n",
    "\n",
    "#Add metadata\n",
    "LB3771T.obs['batch1'] = 'LB3771T'\n",
    "LB3771T.obs['orig_patient']='LB3771'\n",
    "LB3771T.obs['tumor'] = 'ndGBM'\n",
    "LB3771T.obs['study'] = 'Lee_et_al_2021'"
   ]
  },
  {
   "cell_type": "markdown",
   "id": "532de1e9-f799-42e0-b0d0-8b425c932ebc",
   "metadata": {},
   "source": [
    "Continue reading in all desired datasets, adding appropriate obs"
   ]
  },
  {
   "cell_type": "markdown",
   "id": "63f27db4-486b-4e52-964a-b794ab4ee208",
   "metadata": {},
   "source": [
    "# Concatenate objects"
   ]
  },
  {
   "cell_type": "code",
   "execution_count": null,
   "id": "023588ec-ffd4-4a6e-a23a-f67d392efa93",
   "metadata": {},
   "outputs": [],
   "source": [
    "#Concatenate anndata objects\n",
    "#These are all composed of single filtered feature matrices from data read in, as above\n",
    "adata = LB3612T.concatenate([LB3771T, normal_brain_samples, GBM_samples,\n",
    "                            brain_met_samples, PBMC_samples], index_unique=None, join=\"outer\")"
   ]
  },
  {
   "cell_type": "code",
   "execution_count": null,
   "id": "e1101a7b-eb35-4347-99ce-6eae88e17dea",
   "metadata": {},
   "outputs": [],
   "source": [
    "#Calculate QC statistics\n",
    "adata.var['mito'] = adata.var_names.str.startswith('MT-')  # annotate the group of mitochondrial genes as 'mt'\n",
    "sc.pp.calculate_qc_metrics(adata, qc_vars=['mito'], percent_top=None, log1p=False, inplace=True)"
   ]
  },
  {
   "cell_type": "code",
   "execution_count": null,
   "id": "85447bdf-6420-4608-8d9d-ac2fc59c71c4",
   "metadata": {},
   "outputs": [],
   "source": [
    "#Plot\n",
    "sc.pl.violin(adata, ['n_genes_by_counts', 'total_counts', 'pct_counts_mito'],\n",
    "             jitter=0.4, multi_panel=True)\n",
    "sc.pl.scatter(adata, x='total_counts', y='pct_counts_mito')\n",
    "sc.pl.scatter(adata, x='total_counts', y='n_genes_by_counts')"
   ]
  },
  {
   "cell_type": "code",
   "execution_count": null,
   "id": "81e4edb7-d101-41b6-8a50-bed9434fc344",
   "metadata": {},
   "outputs": [],
   "source": [
    "#QC Filter data by slicing anndata object\n",
    "adata = adata[adata.obs.n_genes_by_counts < 8000, :]\n",
    "adata = adata[adata.obs.total_counts > 500, :]\n",
    "adata = adata[adata.obs.pct_counts_mito < 25, :]"
   ]
  },
  {
   "cell_type": "code",
   "execution_count": null,
   "id": "09d9b3d8-cb54-4930-94d6-d03f6fa8c7bf",
   "metadata": {},
   "outputs": [],
   "source": [
    "#Prep for HVG and scvi\n",
    "#log1p the data\n",
    "adata.obs[\"log1p_total_counts\"] = np.log1p(adata.obs[\"total_counts\"])\n",
    "\n",
    "#Create layers\n",
    "adata.layers[\"counts\"] = adata.X.copy()\n",
    "adata.layers['norm'] = adata.X.copy(); sc.pp.normalize_total(adata, target_sum=1e4, layer=\"norm\")"
   ]
  },
  {
   "cell_type": "markdown",
   "id": "e22e211f-7d8c-47d5-8802-d924c80aa99c",
   "metadata": {},
   "source": [
    "# hvg selection"
   ]
  },
  {
   "cell_type": "code",
   "execution_count": null,
   "id": "699f727b-8c76-4ee6-958d-db382aa5465e",
   "metadata": {},
   "outputs": [],
   "source": [
    "sc.pp.highly_variable_genes(\n",
    "    adata,\n",
    "    n_top_genes=5000,\n",
    "    subset=False,\n",
    "    layer=\"counts\",\n",
    "    flavor=\"seurat_v3\"\n",
    ")"
   ]
  },
  {
   "cell_type": "code",
   "execution_count": null,
   "id": "6be56fac-9131-446f-a8ee-ebd7f5813a33",
   "metadata": {},
   "outputs": [],
   "source": [
    "adata.var['mean_'] = np.array(adata.X.mean(0))[0]\n",
    "adata.var['frac_zero'] = 1 - np.array((adata.X > 0).sum(0))[0] / adata.shape[0]\n",
    "\n",
    "fig, ax = plt.subplots(figsize=(9,6))\n",
    "ax.scatter(adata.var.mean_, adata.var.frac_zero, s=1)\n",
    "ax.set_xscale(\"log\")"
   ]
  },
  {
   "cell_type": "code",
   "execution_count": null,
   "id": "69b2c813-041f-44e3-ace0-404ed98f40ff",
   "metadata": {},
   "outputs": [],
   "source": [
    "#Calculate Poisson gene selection\n",
    "df_poisson = scvi.data.poisson_gene_selection(\n",
    "    adata, n_top_genes=5000, batch_key=\"batch1\", inplace=False\n",
    ")\n",
    "\n",
    "df_poisson[df_poisson.highly_variable].sort_values('prob_zero_enrichment_rank')\n",
    "\n",
    "pd.crosstab(df_poisson.highly_variable, adata.var.highly_variable)\n",
    "\n",
    "is_hvg = df_poisson.highly_variable\n",
    "\n",
    "adata.varm['df_poisson']= df_poisson\n",
    "\n",
    "adata_query = adata[:, is_hvg].copy()\n",
    "print(adata_query)"
   ]
  },
  {
   "cell_type": "markdown",
   "id": "7b149058-c109-4adf-834b-abaa1e2f2fc0",
   "metadata": {},
   "source": [
    "# Set up and run scvi"
   ]
  },
  {
   "cell_type": "code",
   "execution_count": null,
   "id": "5b9ace8a-4f18-479b-8818-bb216a1d786c",
   "metadata": {},
   "outputs": [],
   "source": [
    "#Set up scvi model\n",
    "\n",
    "#Can insert batch_key here if desired\n",
    "scvi.model.SCVI.setup_anndata(\n",
    "    adata_query,\n",
    "    layer=\"counts\",\n",
    "    categorical_covariate_keys=[\"orig_patient\", 'tumor'],\n",
    "    continuous_covariate_keys=[\"pct_counts_mito\"],\n",
    "    batch_key='batch1'\n",
    ")\n",
    "\n",
    "model = scvi.model.SCVI(adata_query, gene_likelihood=\"nb\")\n",
    "\n",
    "model.view_anndata_setup()"
   ]
  },
  {
   "cell_type": "code",
   "execution_count": null,
   "id": "2543e023-4533-4862-b4ef-f3153ee3bbe8",
   "metadata": {},
   "outputs": [],
   "source": [
    "#Train model\n",
    "\n",
    "#Training parameters\n",
    "train_kwargs = dict(\n",
    "    early_stopping=True,\n",
    "    early_stopping_patience=20,\n",
    "    enable_model_summary=True,\n",
    "    enable_progress_bar=True,\n",
    "    enable_checkpointing=True,\n",
    "    max_epochs=800\n",
    ")\n",
    "\n",
    "#Be sure GPU is enabled to run this\n",
    "model.train(**train_kwargs)"
   ]
  },
  {
   "cell_type": "code",
   "execution_count": null,
   "id": "1f9c43fd-69ed-4d06-a813-c21c9a7fafd3",
   "metadata": {},
   "outputs": [],
   "source": [
    "#Plot model results\n",
    "train_elbo = model.history['elbo_train'][1:]\n",
    "test_elbo = model.history['elbo_validation']\n",
    "\n",
    "ax = train_elbo.plot()\n",
    "test_elbo.plot(ax = ax)"
   ]
  },
  {
   "cell_type": "code",
   "execution_count": null,
   "id": "e6a9de93-6f0f-4aad-92a1-802616148c4c",
   "metadata": {},
   "outputs": [],
   "source": [
    "#Fit model to data\n",
    "\n",
    "#Get latent representation of model to apply to UMAP\n",
    "latent = model.get_latent_representation()\n",
    "\n",
    "adata.obsm[\"X_scVI_1.1\"] = latent\n",
    "\n",
    "#Calculate neighbors using scVI model input\n",
    "sc.pp.neighbors(adata, use_rep=\"X_scVI_1.1\")\n",
    "sc.tl.umap(adata, min_dist=0.5)"
   ]
  },
  {
   "cell_type": "code",
   "execution_count": null,
   "id": "42be1341-28fe-4b08-b4b7-6096566b7a85",
   "metadata": {},
   "outputs": [],
   "source": [
    "#Run leiden clustering based on neighbors\n",
    "sc.tl.leiden(adata, key_added=\"leiden_scVI_1.1\", resolution=2.0)"
   ]
  },
  {
   "cell_type": "markdown",
   "id": "ea00bcaf-1489-4f9b-9e65-5535b94dc3bd",
   "metadata": {},
   "source": [
    "# Assess quality"
   ]
  },
  {
   "cell_type": "code",
   "execution_count": null,
   "id": "f8fceb84-9660-4694-8e44-22b5fe5dd823",
   "metadata": {},
   "outputs": [],
   "source": [
    "#QC UMAPs\n",
    "sc.pl.umap(\n",
    "    adata,\n",
    "    color=[\"n_genes_by_counts\", \"total_counts\", \"pct_counts_mito\", \"log1p_total_counts\"],\n",
    "    cmap=\"cubehelix_r\",\n",
    "    s=3,\n",
    "    ncols=2,\n",
    ")"
   ]
  },
  {
   "cell_type": "code",
   "execution_count": null,
   "id": "21d8641d-97bf-46af-aef9-17988a4614f7",
   "metadata": {},
   "outputs": [],
   "source": [
    "fig, ax = plt.subplots(figsize=(12, 8))\n",
    "sc.pl.umap(adata, color=\"tumor\", cmap=\"cmo.matter\", s=3, ax=ax, vmax=\"p99.99\")\n",
    "fig, ax = plt.subplots(figsize=(12, 8))\n",
    "sc.pl.umap(adata, color=\"leiden_scVI_1.1\", legend_loc=\"on data\", ax=ax, s=3)\n",
    "fig, ax = plt.subplots(figsize=(12, 8))\n",
    "sc.pl.umap(adata, color=\"orig_patient\", legend_loc=\"right margin\", ax=ax, s=3)"
   ]
  },
  {
   "cell_type": "code",
   "execution_count": null,
   "id": "af834003-9b99-4394-ac7c-ac1d93fa2770",
   "metadata": {},
   "outputs": [],
   "source": [
    "#Additional QC bar graphs\n",
    "adata_query.obs['cluster'] = adata.obs[\"leiden_scVI_1.1\"].copy()\n",
    "\n",
    "#Plot Log1p total counts\n",
    "fig, ax = plt.subplots(figsize=(30,6))\n",
    "sns.boxenplot(data=adata_query.obs, x=\"cluster\", y=\"log1p_total_counts\", ax=ax)\n",
    "\n",
    "#Plot Pct counts mito\n",
    "fig, ax = plt.subplots(figsize=(30,6))\n",
    "sns.boxenplot(data=adata_query.obs, x=\"cluster\", y=\"pct_counts_mito\", ax=ax)"
   ]
  },
  {
   "cell_type": "code",
   "execution_count": null,
   "id": "8d90aea8-17e3-4ada-ade2-51fe4937882f",
   "metadata": {},
   "outputs": [],
   "source": [
    "#Assess gene expression across featureplots on the model embedding\n",
    "#GBM specific\n",
    "genes = ['NRG3', 'NCAM1', 'MBP',\n",
    "         'SOX2', 'OLIG2', 'GFAP',\n",
    "         'LUM', 'VWF', 'MKI67']\n",
    "\n",
    "sc.pl.umap(\n",
    "    adata,\n",
    "    color=genes,\n",
    "    use_raw=False,\n",
    "    legend_loc= \"on data\",\n",
    "    color_map=\"cmo.matter\",\n",
    "    ncols=3,\n",
    "    frameon=False,\n",
    "    vmax=\"p99.5\",\n",
    "    layer=\"norm\",\n",
    "    save=False\n",
    ")"
   ]
  },
  {
   "cell_type": "code",
   "execution_count": null,
   "id": "6c361906-61a1-4a7e-ac60-f084deb1e224",
   "metadata": {},
   "outputs": [],
   "source": [
    "#Neurons\n",
    "genes = ['PLXDC2', 'ELMO1', 'FRMD4A',\n",
    "        'LDLRAD4', 'SRGAP2', 'FKBP5',\n",
    "        'DOCK4', 'CELF2', 'NCAM1']\n",
    "\n",
    "sc.pl.umap(\n",
    "    adata,\n",
    "    color=genes,\n",
    "    use_raw=False,\n",
    "    legend_loc= \"on data\",\n",
    "    color_map=\"cmo.matter\",\n",
    "    ncols=3,\n",
    "    frameon=False,\n",
    "    vmax=\"p99.5\",\n",
    "    layer=\"norm\",\n",
    "    save=False\n",
    ")"
   ]
  },
  {
   "cell_type": "code",
   "execution_count": null,
   "id": "d87f614f-f949-40b8-b068-e9f35d9898be",
   "metadata": {},
   "outputs": [],
   "source": [
    "#Astrocytes\n",
    "genes = ['GFAP', 'S100B', 'ALDH1L1']\n",
    "\n",
    "sc.pl.umap(\n",
    "    adata,\n",
    "    color=genes,\n",
    "    use_raw=False,\n",
    "    legend_loc= \"on data\",\n",
    "    color_map=\"cmo.matter\",\n",
    "    ncols=3,\n",
    "    frameon=False,\n",
    "    vmax=\"p99.5\",\n",
    "    layer=\"norm\",\n",
    "    save=False\n",
    ")"
   ]
  },
  {
   "cell_type": "code",
   "execution_count": null,
   "id": "9552e448-4a0d-4a0f-b29d-6147e88f5a13",
   "metadata": {},
   "outputs": [],
   "source": [
    "#Breast and immune\n",
    "genes = ['EPCAM', 'PDGFRA', 'PECAM1',\n",
    "        'MCAM', 'PDGFRB', 'MKI67']\n",
    "\n",
    "sc.pl.umap(\n",
    "    adata,\n",
    "    color=genes,\n",
    "    use_raw=False,\n",
    "    legend_loc= \"on data\",\n",
    "    color_map=\"cmo.matter\",\n",
    "    ncols=3,\n",
    "    frameon=False,\n",
    "    vmax=\"p99.5\",\n",
    "    layer=\"norm\",\n",
    "    save=False\n",
    ")"
   ]
  },
  {
   "cell_type": "code",
   "execution_count": null,
   "id": "9ccbbf00-0ddb-4abf-8705-fdfa219a1a8e",
   "metadata": {},
   "outputs": [],
   "source": [
    "#More detailed immune\n",
    "genes = ['PTPRC', 'CD3D', 'CD68',\n",
    "        'CD8A', 'CD4', 'IL7R', #second two are CD4 markers\n",
    "        'FGFBP2', 'FCGR3A', 'CX3CR1', #NK cells\n",
    "         'CD19', 'CD79A', 'MS4A1', #B cell specific\n",
    "        'IGHG1', 'MZB1', 'SDC1', #Plasma cell specific\n",
    "        'CD14', 'S100A12', 'CLEC10A', #monocyte specific\n",
    "         'C1QA', 'C1QB', 'C1QC', #macrophage specific\n",
    "         'CD1C', 'TPSB2', 'TPSAB1'] #first is DC, last 2 are Mast cells \n",
    "sc.pl.umap(\n",
    "    adata,\n",
    "    color=genes,\n",
    "    use_raw=False,\n",
    "    legend_loc= \"on data\",\n",
    "    color_map=\"cmo.matter\",\n",
    "    ncols=3,\n",
    "    frameon=False,\n",
    "    vmax=\"p99.5\",\n",
    "    layer=\"norm\",\n",
    "    save=False\n",
    ")"
   ]
  },
  {
   "cell_type": "code",
   "execution_count": null,
   "id": "ec6d9edc-1a59-4888-bd4d-94e8ac0b9016",
   "metadata": {},
   "outputs": [],
   "source": [
    "#Microglia\n",
    "genes = ['CX3CR1', 'TMEM119', 'CD68', 'PTPRC']\n",
    "\n",
    "sc.pl.umap(\n",
    "    adata,\n",
    "    color=genes,\n",
    "    use_raw=False,\n",
    "    legend_loc= \"on data\",\n",
    "    color_map=\"cmo.matter\",\n",
    "    ncols=3,\n",
    "    frameon=False,\n",
    "    vmax=\"p99.5\",\n",
    "    layer=\"norm\",\n",
    "    save=False\n",
    ")"
   ]
  },
  {
   "cell_type": "code",
   "execution_count": null,
   "id": "d059c5a8-c874-4fb3-8b44-d030e6480c78",
   "metadata": {},
   "outputs": [],
   "source": [
    "#Find cluster markers\n",
    "sc.tl.rank_genes_groups(adata, 'leiden_scVI_1.1', method='wilcoxon', layer='norm', use_raw=False)\n",
    "pd.DataFrame(adata.uns['rank_genes_groups']['names']).head(30)"
   ]
  },
  {
   "cell_type": "markdown",
   "id": "94410326-426c-4b5c-81d1-4d937c9f0cf2",
   "metadata": {},
   "source": [
    "From here, assess low quality cells and doublet clusters from graphs and data produced above"
   ]
  },
  {
   "cell_type": "code",
   "execution_count": null,
   "id": "dd543578-4c1d-462f-9c74-ac6cffb134a5",
   "metadata": {},
   "outputs": [],
   "source": [
    "# If any bad quality clusters present, remove\n",
    "bad_clust=['51', '34']\n",
    "\n",
    "#Filter out bad clusters\n",
    "to_keep=(~adata.obs['leiden_scVI_1.1'].isin(bad_clust))\n",
    "\n",
    "#Copy over to new anndata object\n",
    "adata = adata[to_keep].copy()"
   ]
  },
  {
   "cell_type": "markdown",
   "id": "35367d46-f242-445e-b195-8e988b8ce379",
   "metadata": {},
   "source": [
    "Now iteratively run through another round of scvi model training, starting with hvg selection step. Continue until few/no low quality cell clusters remain"
   ]
  },
  {
   "cell_type": "markdown",
   "id": "94816814-2fb4-4a92-8289-887140b76958",
   "metadata": {},
   "source": [
    "# Annotate cell clusters"
   ]
  },
  {
   "cell_type": "code",
   "execution_count": null,
   "id": "5341a0bf-dd9e-4956-9067-accee301462d",
   "metadata": {},
   "outputs": [],
   "source": [
    "#Rename scVI clusters with dash (need to do this for follow-up naming with dictionary to work properly)\n",
    "new_cluster_names = ['_0', '_1', '_2', '_3', '_4', '_5', '_6', '_7', '_8', '_9', '_10',\n",
    "                     '_11', '_12', '_13', '_14', '_15', '_16', '_17', '_18', '_19', '_20',\n",
    "                    '_21', '_22', '_23', '_24', '_25', '_26', '_27', '_28', '_29', '_30', \n",
    "                     '_31', '_32', '_33', '_34', '_35', '_36', '_37', '_38', '_39', '_40',\n",
    "                     '_41', '_42', '_43', '_44', '_45', '_46', '_47', '_48', '_49', '_50']\n",
    "adata.rename_categories('leiden_scVI_1.1', new_cluster_names)"
   ]
  },
  {
   "cell_type": "code",
   "execution_count": null,
   "id": "c72d6267-b76e-4641-abf2-43a728684a35",
   "metadata": {},
   "outputs": [],
   "source": [
    "#Begin annotating\n",
    "#broad immune names\n",
    "\n",
    "old_to_new = dict(\n",
    "    _0='Microglia',\n",
    "    _1='Lymphoid',\n",
    "    _2='Tumor',\n",
    "    _3='Myeloid',\n",
    "    _4='Myeloid',\n",
    "    _5='Tumor',\n",
    "    _6='Oligodendrocytes',\n",
    "    _7='Tumor',\n",
    "    _8='Tumor',\n",
    "    _9='Microglia',\n",
    "    _10='Oligodendrocytes',\n",
    "    _11='Tumor',\n",
    "    _12='Microglia',\n",
    "    _13='Tumor',\n",
    "    _14='Lymphoid',\n",
    "    _15='Neurons',\n",
    "    _16='Lymphoid',\n",
    "    _17='Myeloid',\n",
    "    _18='Oligodendrocytes',\n",
    "    _19='Myeloid',\n",
    "    _20='Astrocytes',\n",
    "    _21='Neurons',\n",
    "    _22='Tumor',\n",
    "    _23='Myeloid',\n",
    "    _24='Oligodendrocytes',\n",
    "    _25='Microglia',\n",
    "    _26='Myeloid',\n",
    "    _27='Myeloid',\n",
    "    _28='Myeloid',\n",
    "    _29='Fibroblasts',\n",
    "    _30='Myeloid',\n",
    "    _31='Lymphoid',\n",
    "    _32='Tumor',\n",
    "    _33='Oligodendrocytes',\n",
    "    _34='Myeloid',\n",
    "    _35='Tumor',\n",
    "    _36='Tumor',\n",
    "    _37='Neurons',\n",
    "    _38='Microglia',\n",
    "    _39='Lymphoid',\n",
    "    _40='Neurons',\n",
    "    _41='Tumor',\n",
    "    _42='Lymphoid',\n",
    "    _43='Vascular',\n",
    "    _44='Myeloid',\n",
    "    _45='Lymphoid',\n",
    "    _46='Lymphoid',\n",
    "    _47='Myeloid',\n",
    "    _48='Tumor',\n",
    "    _49='Tumor',\n",
    "    _50='Myeloid'\n",
    ")\n",
    "\n",
    "\n",
    "adata.obs['cluster_names_broad'] = (\n",
    "    adata.obs['leiden_scVI_1.1']\n",
    "    .map(old_to_new)\n",
    "    .astype('category')\n",
    ")"
   ]
  },
  {
   "cell_type": "code",
   "execution_count": null,
   "id": "17e98546-5ebc-49c7-a873-a47bfee8c3ea",
   "metadata": {},
   "outputs": [],
   "source": [
    "#Plot on embedding\n",
    "fig, ax = plt.subplots(figsize=(12, 8))\n",
    "sc.pl.umap(adata, color=\"cluster_names_broad\", legend_loc=\"right_margin\", ax=ax, s=1, palette=palette, frameon=False,\n",
    "          save=False)"
   ]
  },
  {
   "cell_type": "code",
   "execution_count": null,
   "id": "fef26175-0746-4e9f-826b-a54ffad80ab8",
   "metadata": {},
   "outputs": [],
   "source": [
    "genes=['PTPRC', 'CX3CR1', 'TMEM119', 'PLXDC2', 'FKBP5', 'DOCK4', 'FRMD4A', 'LDLRAD4', 'SRGAP2',\n",
    "       'CD68', 'CD14', 'S100A12', 'C1QA', 'CD3D', 'CD8A', 'IL7R', 'LUM', 'PDGFRB', \n",
    "       'VWF', 'NCAM1', 'NRG3', 'GFAP', 'ALDH1L1', 'MBP', 'SOX2', 'OLIG2', 'S100B', \n",
    "       'EPCAM', 'PDGFRA', 'MKI67']\n",
    "\n",
    "fig, ax = plt.subplots(figsize=(8,10))\n",
    "sc.pl.dotplot(adata, genes, groupby='cluster_names_broad', layer='norm', ax=ax, cmap='Reds',\n",
    "             swap_axes=True,\n",
    "                         categories_order=['Microglia', 'Myeloid', 'Lymphoid', \n",
    "                                           'Fibroblasts', 'Vascular', 'Neurons', 'Astrocytes',\n",
    "                                          'Oligodendrocytes', 'Tumor'],\n",
    "             save=False)"
   ]
  },
  {
   "cell_type": "code",
   "execution_count": null,
   "id": "a6e7541a-dc90-46eb-9511-fef9bbcb1fa6",
   "metadata": {},
   "outputs": [],
   "source": [
    "adata.write('glioma_normalbrain_TILs_brainmets_scvi.h5ad')"
   ]
  }
 ],
 "metadata": {
  "kernelspec": {
   "display_name": "jbf18_env",
   "language": "python",
   "name": "jbf18_env"
  },
  "language_info": {
   "codemirror_mode": {
    "name": "ipython",
    "version": 3
   },
   "file_extension": ".py",
   "mimetype": "text/x-python",
   "name": "python",
   "nbconvert_exporter": "python",
   "pygments_lexer": "ipython3",
   "version": "3.9.0"
  }
 },
 "nbformat": 4,
 "nbformat_minor": 5
}
