{
 "cells": [
  {
   "cell_type": "markdown",
   "id": "a3b01e92-cd85-4b42-ab3e-2d0f8f3d6ba9",
   "metadata": {},
   "source": [
    "# Prepare Environment"
   ]
  },
  {
   "cell_type": "code",
   "execution_count": null,
   "id": "a0c2f3b8-bdf0-4211-b8b9-a8134750532d",
   "metadata": {},
   "outputs": [],
   "source": [
    "#Import relevant packages\n",
    "import numpy as np\n",
    "import pandas as pd\n",
    "from matplotlib import rcParams\n",
    "import os\n",
    "import scanpy as sc\n",
    "\n",
    "import matplotlib as mpl\n",
    "import matplotlib.pyplot as plt\n",
    "\n",
    "#For nice color schemes\n",
    "import cmocean\n",
    "\n",
    "#For barplots\n",
    "import seaborn as sns"
   ]
  },
  {
   "cell_type": "code",
   "execution_count": null,
   "id": "9a5c6416-649a-4026-b135-1922778cb227",
   "metadata": {},
   "outputs": [],
   "source": [
    "#Set fontsize\n",
    "plt.rcParams.update({'font.size': 20})"
   ]
  },
  {
   "cell_type": "code",
   "execution_count": null,
   "id": "578cfae9-7547-409a-bb38-e39a7471c466",
   "metadata": {},
   "outputs": [],
   "source": [
    "#Set wd\n",
    "os.chdir('/hpc/group/goldsteinlab/Python')"
   ]
  },
  {
   "cell_type": "code",
   "execution_count": null,
   "id": "b0d4d859-5d3c-4f40-af2a-59de72974411",
   "metadata": {},
   "outputs": [],
   "source": [
    "#Read in atlas\n",
    "adata=sc.read_h5ad('glioma_normalbrain_TILs_brainmets_scvi.h5ad')"
   ]
  },
  {
   "cell_type": "markdown",
   "id": "84611e79-9502-4a12-b523-413fbff8a79a",
   "metadata": {},
   "source": [
    "# Assess expression of adrenegeric receptors"
   ]
  },
  {
   "cell_type": "code",
   "execution_count": null,
   "id": "f74a4f9e-a451-4eec-9beb-3a4f8e18d974",
   "metadata": {},
   "outputs": [],
   "source": [
    "# First looking at global\n",
    "genes = ['ADRA1A', 'ADRA1B', 'ADRA1D',\n",
    "        'ADRA2A', 'ADRA2B', 'ADRA2C',\n",
    "        'ADRB1', 'ADRB2', 'ADRB3']\n",
    "\n",
    "sc.pl.umap(\n",
    "    adata,\n",
    "    color=genes,\n",
    "    use_raw=False,\n",
    "    legend_loc= \"on data\",\n",
    "    color_map=\"cmo.matter\",\n",
    "    ncols=3,\n",
    "    frameon=False,\n",
    "    vmax='p99.5',\n",
    "    vmin=0,\n",
    "    layer=\"norm\",\n",
    "    save=False,\n",
    "    s=0.75\n",
    ")"
   ]
  },
  {
   "cell_type": "code",
   "execution_count": null,
   "id": "8f381860-b4e3-45ba-882c-9a1766b581db",
   "metadata": {},
   "outputs": [],
   "source": [
    "fig, ax = plt.subplots(figsize=(5,8))\n",
    "sc.pl.matrixplot(adata, ['ADRB1', 'ADRB2'], \n",
    "                 'cluster_names_broad', dendrogram=False, cmap='Reds', \n",
    "                 colorbar_title='mean expression\\nin group',\n",
    "                 save=False, swap_axes=False, layer='norm', ax=ax,\n",
    "                         categories_order=['Microglia', 'Myeloid', 'Lymphoid', \n",
    "                                           'Fibroblasts', 'Vascular', 'Neurons', 'Astrocytes',\n",
    "                                          'Oligodendrocytes', 'Tumor'],\n",
    "                vmin=0,\n",
    "                vmax=0.6)"
   ]
  },
  {
   "cell_type": "code",
   "execution_count": null,
   "id": "e6f788b9-8c54-40d2-8db9-94e0f5acd6cd",
   "metadata": {},
   "outputs": [],
   "source": [
    "#Subset into objects\n",
    "adata_healthy_PBMC=adata[adata.obs['tumor'].isin(['healthy_PBMC'])]\n",
    "\n",
    "adata_GBM_PBMC=adata[adata.obs['tumor'].isin(['rGBM_PBMC'])]\n",
    "\n",
    "adata_GBM_nl_brain=adata[adata.obs['tumor'].isin(['ndGBM', 'rGBM', 'Normal_brain'])]\n",
    "\n",
    "adata_GBM=adata[adata.obs['tumor'].isin(['ndGBM', 'rGBM'])]\n",
    "\n",
    "adata_brain_mets_nl_brain=adata[adata.obs['tumor'].isin(['Breast_brain_met', 'Lung_brain_met', 'Melanoma_brain_met', 'Normal_brain'])]\n",
    "\n",
    "adata_brain_mets=adata[adata.obs['tumor'].isin(['Breast_brain_met', 'Lung_brain_met', 'Melanoma_brain_met'])]\n",
    "\n",
    "adata_normal_brain=adata[adata.obs['tumor'].isin(['Normal_brain'])]"
   ]
  },
  {
   "cell_type": "code",
   "execution_count": null,
   "id": "6afdf3c6-7276-49a0-a95f-7094f92a5b2b",
   "metadata": {},
   "outputs": [],
   "source": [
    "#Adrenergic featureplots\n",
    "#healthy PBMC\n",
    "genes = ['cluster_names_broad', 'ADRA1B', 'ADRA1D',\n",
    "        'ADRA2A', 'ADRA2B', 'ADRA2C',\n",
    "        'ADRB1', 'ADRB2', 'ADRB3']\n",
    "\n",
    "sc.pl.umap(\n",
    "    adata_healthy_PBMC,\n",
    "    color=genes,\n",
    "    use_raw=False,\n",
    "    legend_loc= \"right_margin\",\n",
    "    color_map=\"cmo.matter\",\n",
    "    ncols=3,\n",
    "    frameon=False,\n",
    "    vmax=5,\n",
    "    vmin=0,\n",
    "    layer=\"norm\",\n",
    "    save=False,\n",
    "    s=6\n",
    ")"
   ]
  },
  {
   "cell_type": "code",
   "execution_count": null,
   "id": "37f72d1f-9811-47e5-b777-b876d5cd8030",
   "metadata": {},
   "outputs": [],
   "source": [
    "adata_healthy_PBMC.obs.groupby(['cluster_names_broad']).apply(len)"
   ]
  },
  {
   "cell_type": "code",
   "execution_count": null,
   "id": "8c0e8a77-34dc-45da-814b-8beb906fdb39",
   "metadata": {},
   "outputs": [],
   "source": [
    "adata_healthy_PBMC=adata_healthy_PBMC[adata_healthy_PBMC.obs['cluster_names_broad'].isin(['Lymphoid', 'Myeloid'])]"
   ]
  },
  {
   "cell_type": "code",
   "execution_count": null,
   "id": "3aab45fb-1f47-467a-b8de-937567f9ad15",
   "metadata": {},
   "outputs": [],
   "source": [
    "fig, ax = plt.subplots(figsize=(10,5))\n",
    "sc.pl.matrixplot(adata_healthy_PBMC, ['ADRA1A', 'ADRA1B', 'ADRA1D',\n",
    "        'ADRA2A', 'ADRA2B', 'ADRA2C',\n",
    "        'ADRB1', 'ADRB2', 'ADRB3'], \n",
    "                 'cluster_names_broad', dendrogram=False, cmap='Reds', \n",
    "                 colorbar_title='mean expression\\nin group',\n",
    "                 save=False, swap_axes=False, layer='norm', ax=ax,\n",
    "                         categories_order=['Myeloid', 'Lymphoid'],\n",
    "                vmin=0,\n",
    "                vmax=0.6)"
   ]
  },
  {
   "cell_type": "code",
   "execution_count": null,
   "id": "c8e33724-e7d7-4436-bf90-3d8b82c983c1",
   "metadata": {},
   "outputs": [],
   "source": [
    "#Adrenergic featureplots\n",
    "#GBM PBMC\n",
    "genes = ['cluster_names_broad', 'ADRA1B', 'ADRA1D',\n",
    "        'ADRA2A', 'ADRA2B', 'ADRA2C',\n",
    "        'ADRB1', 'ADRB2', 'ADRB3']\n",
    "\n",
    "sc.pl.umap(\n",
    "    adata_GBM_PBMC,\n",
    "    color=genes,\n",
    "    use_raw=False,\n",
    "    legend_loc= \"\",\n",
    "    color_map=\"cmo.matter\",\n",
    "    ncols=3,\n",
    "    frameon=False,\n",
    "    vmax=5,\n",
    "    vmin=0,\n",
    "    layer=\"norm\",\n",
    "    save=False,\n",
    "    s=3\n",
    ")"
   ]
  },
  {
   "cell_type": "code",
   "execution_count": null,
   "id": "95d514bd-40ee-4d86-bbe6-816c9ab725d1",
   "metadata": {},
   "outputs": [],
   "source": [
    "adata_GBM_PBMC.obs.groupby(['cluster_names_broad']).apply(len)"
   ]
  },
  {
   "cell_type": "code",
   "execution_count": null,
   "id": "bf91103a-54e3-4a91-afc0-f20bed381245",
   "metadata": {},
   "outputs": [],
   "source": [
    "adata_GBM_PBMC=adata_GBM_PBMC[adata_GBM_PBMC.obs['cluster_names_broad'].isin(['Lymphoid', 'Myeloid'])]"
   ]
  },
  {
   "cell_type": "code",
   "execution_count": null,
   "id": "3c5fb2d4-e92b-4903-a55a-5d2e6cac4c6c",
   "metadata": {},
   "outputs": [],
   "source": [
    "fig, ax = plt.subplots(figsize=(10,5))\n",
    "sc.pl.matrixplot(adata_GBM_PBMC, ['ADRA1A', 'ADRA1B', 'ADRA1D',\n",
    "        'ADRA2A', 'ADRA2B', 'ADRA2C',\n",
    "        'ADRB1', 'ADRB2', 'ADRB3'], \n",
    "                 'cluster_names_broad', dendrogram=False, cmap='Reds', \n",
    "                 colorbar_title='mean expression\\nin group',\n",
    "                 save=False, swap_axes=False, layer='norm', ax=ax,\n",
    "                         categories_order=['Myeloid', 'Lymphoid'],\n",
    "                vmin=0,\n",
    "                vmax=0.6)"
   ]
  },
  {
   "cell_type": "code",
   "execution_count": null,
   "id": "183a2d4e-a40f-42da-87d6-2168a1f4cfe7",
   "metadata": {},
   "outputs": [],
   "source": [
    "#Adrenergic featureplots\n",
    "#GBM normal brain\n",
    "genes = ['cluster_names_broad', 'ADRA1B', 'ADRA1D',\n",
    "        'ADRA2A', 'ADRA2B', 'ADRA2C',\n",
    "        'ADRB1', 'ADRB2', 'ADRB3']\n",
    "\n",
    "sc.pl.umap(\n",
    "    adata_GBM_nl_brain,\n",
    "    color=genes,\n",
    "    use_raw=False,\n",
    "    legend_loc= \"\",\n",
    "    color_map=\"cmo.matter\",\n",
    "    ncols=3,\n",
    "    frameon=False,\n",
    "    vmax=5,\n",
    "    vmin=0,\n",
    "    layer=\"norm\",\n",
    "    save=False,\n",
    "    s=0.5\n",
    ")"
   ]
  },
  {
   "cell_type": "code",
   "execution_count": null,
   "id": "e94bea11-af4b-49aa-ba0f-127b43d356fe",
   "metadata": {},
   "outputs": [],
   "source": [
    "fig, ax = plt.subplots(figsize=(5,8))\n",
    "sc.pl.matrixplot(adata_GBM_nl_brain, ['ADRB1', 'ADRB2'], \n",
    "                 'cluster_names_broad', dendrogram=False, cmap='Reds', \n",
    "                 colorbar_title='mean expression\\nin group',\n",
    "                 save=False, swap_axes=False, layer='norm', ax=ax,\n",
    "                         categories_order=['Microglia', 'Myeloid', 'Lymphoid', \n",
    "                                           'Fibroblasts', 'Neurons', 'Astrocytes',\n",
    "                                          'Oligodendrocytes', 'Tumor'],\n",
    "                vmin=0,\n",
    "                vmax=0.7)"
   ]
  },
  {
   "cell_type": "code",
   "execution_count": null,
   "id": "249025d5-d0d8-4104-bba2-910d39f56341",
   "metadata": {},
   "outputs": [],
   "source": [
    "#Adrenergic featureplots\n",
    "#GBM brain mets\n",
    "genes = ['ADRA1A', 'ADRA1B', 'ADRA1D',\n",
    "        'ADRA2A', 'ADRA2B', 'ADRA2C',\n",
    "        'ADRB1', 'ADRB2', 'ADRB3']\n",
    "\n",
    "sc.pl.umap(\n",
    "    adata_brain_mets,\n",
    "    color=genes,\n",
    "    use_raw=False,\n",
    "    legend_loc= \"on data\",\n",
    "    color_map=\"cmo.matter\",\n",
    "    ncols=3,\n",
    "    frameon=False,\n",
    "    vmax=5,\n",
    "    vmin=0,\n",
    "    layer=\"norm\",\n",
    "    save=False,\n",
    "    s=2\n",
    ")"
   ]
  },
  {
   "cell_type": "code",
   "execution_count": null,
   "id": "5db89dd6-4c91-4949-b9eb-d867b5d0eac0",
   "metadata": {},
   "outputs": [],
   "source": [
    "adata_brain_mets.obs.groupby(['cluster_names_broad']).apply(len)"
   ]
  },
  {
   "cell_type": "code",
   "execution_count": null,
   "id": "9b4b3298-0698-40d7-a59c-0b5dd180c9e2",
   "metadata": {},
   "outputs": [],
   "source": [
    "fig, ax = plt.subplots(figsize=(10,9))\n",
    "sc.pl.matrixplot(adata_brain_mets, ['ADRA1A', 'ADRA1B', 'ADRA1D',\n",
    "        'ADRA2A', 'ADRA2B', 'ADRA2C',\n",
    "        'ADRB1', 'ADRB2', 'ADRB3'], \n",
    "                 'cluster_names_broad', dendrogram=False, cmap='Reds', \n",
    "                 colorbar_title='mean expression\\nin group',\n",
    "                 save=False, swap_axes=False, layer='norm', ax=ax,\n",
    "                         categories_order=['Microglia', 'Myeloid', 'Lymphoid', \n",
    "                                           'Fibroblasts', 'Vascular', 'Neurons', 'Astrocytes',\n",
    "                                          'Oligodendrocytes', 'Tumor'],\n",
    "                vmin=0,\n",
    "                vmax=0.6)"
   ]
  },
  {
   "cell_type": "code",
   "execution_count": null,
   "id": "53ab3524-8dff-43b6-acb5-868865ae28c9",
   "metadata": {},
   "outputs": [],
   "source": [
    "#Adrenergic featureplots\n",
    "#GBM \n",
    "genes = ['cluster_names_broad', 'ADRA1B', 'ADRA1D',\n",
    "        'ADRA2A', 'ADRA2B', 'ADRA2C',\n",
    "        'ADRB1', 'ADRB2', 'ADRB3']\n",
    "\n",
    "sc.pl.umap(\n",
    "    adata_GBM,\n",
    "    color=genes,\n",
    "    use_raw=False,\n",
    "    legend_loc= \"\",\n",
    "    color_map=\"cmo.matter\",\n",
    "    ncols=3,\n",
    "    frameon=False,\n",
    "    vmax=5,\n",
    "    vmin=0,\n",
    "    layer=\"norm\",\n",
    "    save=False,\n",
    "    s=1\n",
    ")"
   ]
  },
  {
   "cell_type": "code",
   "execution_count": null,
   "id": "56a0908e-34a9-444e-9dba-ad3fbd636a53",
   "metadata": {},
   "outputs": [],
   "source": [
    "adata_GBM.obs.groupby(['cluster_names_broad']).apply(len)"
   ]
  },
  {
   "cell_type": "code",
   "execution_count": null,
   "id": "25d6be3a-68e2-4bb3-9653-61b46645d9ac",
   "metadata": {},
   "outputs": [],
   "source": [
    "fig, ax = plt.subplots(figsize=(10,9))\n",
    "sc.pl.matrixplot(adata_GBM, ['ADRA1A', 'ADRA1B', 'ADRA1D',\n",
    "        'ADRA2A', 'ADRA2B', 'ADRA2C',\n",
    "        'ADRB1', 'ADRB2', 'ADRB3'], \n",
    "                 'cluster_names_broad', dendrogram=False, cmap='Reds', \n",
    "                 colorbar_title='mean expression\\nin group',\n",
    "                 save=False, swap_axes=False, layer='norm', ax=ax,\n",
    "                         categories_order=['Microglia', 'Myeloid', 'Lymphoid', \n",
    "                                           'Fibroblasts', 'Vascular', 'Neurons', 'Astrocytes',\n",
    "                                          'Oligodendrocytes', 'Tumor'],\n",
    "                vmin=0,\n",
    "                vmax=0.6)"
   ]
  },
  {
   "cell_type": "code",
   "execution_count": null,
   "id": "cc371d61-1177-4526-9fdb-87a9cd67572e",
   "metadata": {},
   "outputs": [],
   "source": [
    "#Adrenergic featureplots\n",
    "#normal brain\n",
    "genes = ['ADRA1A', 'ADRA1B', 'ADRA1D',\n",
    "        'ADRA2A', 'ADRA2B', 'ADRA2C',\n",
    "        'ADRB1', 'ADRB2', 'ADRB3']\n",
    "\n",
    "sc.pl.umap(\n",
    "    adata_normal_brain,\n",
    "    color=genes,\n",
    "    use_raw=False,\n",
    "    legend_loc= \"on data\",\n",
    "    color_map=\"cmo.matter\",\n",
    "    ncols=3,\n",
    "    frameon=False,\n",
    "    vmax=5,\n",
    "    vmin=0,\n",
    "    layer=\"norm\",\n",
    "    save=False,\n",
    "    s=1\n",
    ")"
   ]
  },
  {
   "cell_type": "code",
   "execution_count": null,
   "id": "a531c090-2c21-47d2-8cc8-0c50fede3b18",
   "metadata": {},
   "outputs": [],
   "source": [
    "adata_normal_brain.obs.groupby(['cluster_names_broad']).apply(len)"
   ]
  },
  {
   "cell_type": "code",
   "execution_count": null,
   "id": "4599be07-7ec2-473f-9a47-dd3ed87449df",
   "metadata": {},
   "outputs": [],
   "source": [
    "fig, ax = plt.subplots(figsize=(4,4))\n",
    "sc.pl.matrixplot(adata_normal_brain, ['ADRB1', 'ADRB2'], \n",
    "                 'cluster_names_broad', dendrogram=False, cmap='Reds', \n",
    "                 colorbar_title='mean expression\\nin group',\n",
    "                 save=False, swap_axes=False, layer='norm', ax=ax,\n",
    "                         categories_order=['Microglia', \n",
    "                                           'Neurons', 'Astrocytes',\n",
    "                                          'Oligodendrocytes'],\n",
    "                vmin=0,\n",
    "                vmax=0.6)"
   ]
  }
 ],
 "metadata": {
  "kernelspec": {
   "display_name": "jbf18_env",
   "language": "python",
   "name": "jbf18_env"
  },
  "language_info": {
   "codemirror_mode": {
    "name": "ipython",
    "version": 3
   },
   "file_extension": ".py",
   "mimetype": "text/x-python",
   "name": "python",
   "nbconvert_exporter": "python",
   "pygments_lexer": "ipython3",
   "version": "3.9.0"
  }
 },
 "nbformat": 4,
 "nbformat_minor": 5
}
